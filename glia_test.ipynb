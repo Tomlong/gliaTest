{
 "cells": [
  {
   "cell_type": "code",
   "execution_count": 57,
   "metadata": {
    "collapsed": true
   },
   "outputs": [],
   "source": [
    "from nltk.tokenize import RegexpTokenizer as rt\n",
    "import nltk\n"
   ]
  },
  {
   "cell_type": "code",
   "execution_count": 81,
   "metadata": {
    "collapsed": false
   },
   "outputs": [],
   "source": [
    "def ngram_probs(file_name = 'raw_sentences.txt'):\n",
    "    word_data = open('raw_sentences.txt')\n",
    "    bigram = {}\n",
    "    trigram = {}\n",
    "    i = 0\n",
    "    \n",
    "    for line in word_data.readlines():\n",
    "        tokenizer = rt(r'\\w+')\n",
    "        \n",
    "        for bi_key in list(nltk.bigrams(tokenizer.tokenize(line.lower()))):\n",
    "            if bi_key in bigram.keys():\n",
    "                bigram[bi_key] +=1\n",
    "            else:\n",
    "                bigram[bi_key] = 1\n",
    "        print list(nltk.trigrams(tokenizer.tokenize(line.lower())))\n",
    "        for tri_key in list(nltk.trigrams(tokenizer.tokenize(line.lower()))):\n",
    "            \n",
    "            if tri_key in trigram.keys():\n",
    "                trigram[tri_key] +=1\n",
    "            else:\n",
    "                trigram[tri_key] = 1\n",
    "           \n",
    "    return bigram, trigram"
   ]
  },
  {
   "cell_type": "code",
   "execution_count": 74,
   "metadata": {
    "collapsed": true
   },
   "outputs": [],
   "source": [
    "def prob3(bigram, cnt2=cnt2, cnt3=cnt3):\n",
    "    prob = {}\n",
    "    total_bigram = cnt2[bigram]\n",
    "    bigram_in_trigram = 0\n",
    "    for key in cnt3.keys():\n",
    "        print key\n",
    "        if bigram == key[:2]:\n",
    "            if key[2] in prob.keys():\n",
    "                prob[key[2]] = 1.0/total_bigram\n",
    "            else:\n",
    "                prob[key[2]] += 1.0/total_bigram\n",
    "    return prob"
   ]
  },
  {
   "cell_type": "code",
   "execution_count": null,
   "metadata": {
    "collapsed": true
   },
   "outputs": [],
   "source": []
  }
 ],
 "metadata": {
  "kernelspec": {
   "display_name": "Python 2",
   "language": "python",
   "name": "python2"
  },
  "language_info": {
   "codemirror_mode": {
    "name": "ipython",
    "version": 2
   },
   "file_extension": ".py",
   "mimetype": "text/x-python",
   "name": "python",
   "nbconvert_exporter": "python",
   "pygments_lexer": "ipython2",
   "version": "2.7.13"
  }
 },
 "nbformat": 4,
 "nbformat_minor": 0
}
